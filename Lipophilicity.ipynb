{
 "cells": [
  {
   "cell_type": "markdown",
   "metadata": {},
   "source": [
    "# Predicting Lipophilicity of Molecules"
   ]
  },
  {
   "cell_type": "code",
   "execution_count": 18,
   "metadata": {},
   "outputs": [],
   "source": [
    "import pandas as pd\n",
    "import numpy as np\n",
    "import tensorflow as tf\n",
    "import deepchem as dc\n",
    "from deepchem.feat.mol_graphs import ConvMol\n",
    "from rdkit.Chem import AllChem, MolFromSmiles, Draw\n",
    "from rdkit import Chem\n",
    "from sklearn."
   ]
  },
  {
   "cell_type": "markdown",
   "metadata": {},
   "source": [
    "## Data Analysis"
   ]
  },
  {
   "cell_type": "code",
   "execution_count": 4,
   "metadata": {},
   "outputs": [],
   "source": [
    "df = pd.read_csv('Lipophilicity.csv')"
   ]
  },
  {
   "cell_type": "code",
   "execution_count": 5,
   "metadata": {},
   "outputs": [
    {
     "data": {
      "text/html": [
       "<div>\n",
       "<style scoped>\n",
       "    .dataframe tbody tr th:only-of-type {\n",
       "        vertical-align: middle;\n",
       "    }\n",
       "\n",
       "    .dataframe tbody tr th {\n",
       "        vertical-align: top;\n",
       "    }\n",
       "\n",
       "    .dataframe thead th {\n",
       "        text-align: right;\n",
       "    }\n",
       "</style>\n",
       "<table border=\"1\" class=\"dataframe\">\n",
       "  <thead>\n",
       "    <tr style=\"text-align: right;\">\n",
       "      <th></th>\n",
       "      <th>CMPD_CHEMBLID</th>\n",
       "      <th>exp</th>\n",
       "      <th>smiles</th>\n",
       "    </tr>\n",
       "  </thead>\n",
       "  <tbody>\n",
       "    <tr>\n",
       "      <th>0</th>\n",
       "      <td>CHEMBL596271</td>\n",
       "      <td>3.54</td>\n",
       "      <td>Cn1c(CN2CCN(CC2)c3ccc(Cl)cc3)nc4ccccc14</td>\n",
       "    </tr>\n",
       "    <tr>\n",
       "      <th>1</th>\n",
       "      <td>CHEMBL1951080</td>\n",
       "      <td>-1.18</td>\n",
       "      <td>COc1cc(OC)c(cc1NC(=O)CSCC(=O)O)S(=O)(=O)N2C(C)...</td>\n",
       "    </tr>\n",
       "    <tr>\n",
       "      <th>2</th>\n",
       "      <td>CHEMBL1771</td>\n",
       "      <td>3.69</td>\n",
       "      <td>COC(=O)[C@@H](N1CCc2sccc2C1)c3ccccc3Cl</td>\n",
       "    </tr>\n",
       "    <tr>\n",
       "      <th>3</th>\n",
       "      <td>CHEMBL234951</td>\n",
       "      <td>3.37</td>\n",
       "      <td>OC[C@H](O)CN1C(=O)C(Cc2ccccc12)NC(=O)c3cc4cc(C...</td>\n",
       "    </tr>\n",
       "    <tr>\n",
       "      <th>4</th>\n",
       "      <td>CHEMBL565079</td>\n",
       "      <td>3.10</td>\n",
       "      <td>Cc1cccc(C[C@H](NC(=O)c2cc(nn2C)C(C)(C)C)C(=O)N...</td>\n",
       "    </tr>\n",
       "  </tbody>\n",
       "</table>\n",
       "</div>"
      ],
      "text/plain": [
       "   CMPD_CHEMBLID   exp                                             smiles\n",
       "0   CHEMBL596271  3.54            Cn1c(CN2CCN(CC2)c3ccc(Cl)cc3)nc4ccccc14\n",
       "1  CHEMBL1951080 -1.18  COc1cc(OC)c(cc1NC(=O)CSCC(=O)O)S(=O)(=O)N2C(C)...\n",
       "2     CHEMBL1771  3.69             COC(=O)[C@@H](N1CCc2sccc2C1)c3ccccc3Cl\n",
       "3   CHEMBL234951  3.37  OC[C@H](O)CN1C(=O)C(Cc2ccccc12)NC(=O)c3cc4cc(C...\n",
       "4   CHEMBL565079  3.10  Cc1cccc(C[C@H](NC(=O)c2cc(nn2C)C(C)(C)C)C(=O)N..."
      ]
     },
     "execution_count": 5,
     "metadata": {},
     "output_type": "execute_result"
    }
   ],
   "source": [
    "df.head()"
   ]
  },
  {
   "cell_type": "code",
   "execution_count": 6,
   "metadata": {},
   "outputs": [
    {
     "data": {
      "text/html": [
       "<div>\n",
       "<style scoped>\n",
       "    .dataframe tbody tr th:only-of-type {\n",
       "        vertical-align: middle;\n",
       "    }\n",
       "\n",
       "    .dataframe tbody tr th {\n",
       "        vertical-align: top;\n",
       "    }\n",
       "\n",
       "    .dataframe thead th {\n",
       "        text-align: right;\n",
       "    }\n",
       "</style>\n",
       "<table border=\"1\" class=\"dataframe\">\n",
       "  <thead>\n",
       "    <tr style=\"text-align: right;\">\n",
       "      <th></th>\n",
       "      <th>exp</th>\n",
       "    </tr>\n",
       "  </thead>\n",
       "  <tbody>\n",
       "    <tr>\n",
       "      <th>count</th>\n",
       "      <td>4200.000000</td>\n",
       "    </tr>\n",
       "    <tr>\n",
       "      <th>mean</th>\n",
       "      <td>2.186336</td>\n",
       "    </tr>\n",
       "    <tr>\n",
       "      <th>std</th>\n",
       "      <td>1.203004</td>\n",
       "    </tr>\n",
       "    <tr>\n",
       "      <th>min</th>\n",
       "      <td>-1.500000</td>\n",
       "    </tr>\n",
       "    <tr>\n",
       "      <th>25%</th>\n",
       "      <td>1.410000</td>\n",
       "    </tr>\n",
       "    <tr>\n",
       "      <th>50%</th>\n",
       "      <td>2.360000</td>\n",
       "    </tr>\n",
       "    <tr>\n",
       "      <th>75%</th>\n",
       "      <td>3.100000</td>\n",
       "    </tr>\n",
       "    <tr>\n",
       "      <th>max</th>\n",
       "      <td>4.500000</td>\n",
       "    </tr>\n",
       "  </tbody>\n",
       "</table>\n",
       "</div>"
      ],
      "text/plain": [
       "               exp\n",
       "count  4200.000000\n",
       "mean      2.186336\n",
       "std       1.203004\n",
       "min      -1.500000\n",
       "25%       1.410000\n",
       "50%       2.360000\n",
       "75%       3.100000\n",
       "max       4.500000"
      ]
     },
     "execution_count": 6,
     "metadata": {},
     "output_type": "execute_result"
    }
   ],
   "source": [
    "df.describe()"
   ]
  },
  {
   "cell_type": "markdown",
   "metadata": {},
   "source": [
    "Let's look at some molecules"
   ]
  },
  {
   "cell_type": "code",
   "execution_count": 7,
   "metadata": {},
   "outputs": [
    {
     "data": {
      "image/png": "[encoded data removed]",
      "text/plain": [
       "<PIL.PngImagePlugin.PngImageFile image mode=RGB size=600x600 at 0x7F6FA892B978>"
      ]
     },
     "execution_count": 7,
     "metadata": {},
     "output_type": "execute_result"
    }
   ],
   "source": [
    "from rdkit.Chem.Draw import IPythonConsole #Needed to show molecules\n",
    "mols = []\n",
    "for (ix,row) in df.sample(9).iterrows():\n",
    "    m = MolFromSmiles(row.smiles)\n",
    "    m.SetDoubleProp(\"exp\", row.exp)\n",
    "    mols.append(m)\n",
    "\n",
    "img = Draw.MolsToGridImage(mols, molsPerRow=3, legends=[\"%.2f\" % (float(m.GetProp('exp'))) for m in mols]); img"
   ]
  },
  {
   "cell_type": "markdown",
   "metadata": {},
   "source": [
    "# Graph Embedding"
   ]
  },
  {
   "cell_type": "markdown",
   "metadata": {},
   "source": [
    "Next, the molecules will be represented by graphs. The graphs will be embedded such that they can be used in a deep learning model for Lipophilicity predictions."
   ]
  },
  {
   "cell_type": "code",
   "execution_count": 250,
   "metadata": {},
   "outputs": [
    {
     "data": {
      "image/png": "[encoded data removed]",
      "text/plain": [
       "<rdkit.Chem.rdchem.Mol at 0x7f6f7a7f32b0>"
      ]
     },
     "execution_count": 250,
     "metadata": {},
     "output_type": "execute_result"
    }
   ],
   "source": [
    "m = MolFromSmiles(df.iloc[1337].smiles)\n",
    "m"
   ]
  },
  {
   "cell_type": "code",
   "execution_count": 251,
   "metadata": {},
   "outputs": [],
   "source": [
    "from rdkit.Chem import rdmolops\n",
    "import networkx as nx \n",
    "import matplotlib.pyplot as plt\n",
    "AllChem.Compute2DCoords(m)\n",
    "admatrix = rdmolops.GetAdjacencyMatrix( m )"
   ]
  },
  {
   "cell_type": "code",
   "execution_count": 252,
   "metadata": {},
   "outputs": [],
   "source": [
    "nx_graph = nx.from_numpy_matrix(admatrix)"
   ]
  },
  {
   "cell_type": "code",
   "execution_count": 253,
   "metadata": {
    "scrolled": true
   },
   "outputs": [
    {
     "data": {
      "image/png": "[encoded data removed]",
      "text/plain": [
       "<Figure size 432x288 with 1 Axes>"
      ]
     },
     "metadata": {},
     "output_type": "display_data"
    }
   ],
   "source": [
    "nx.draw(nx_graph)"
   ]
  },
  {
   "cell_type": "markdown",
   "metadata": {},
   "source": [
    "Looks pretty sweet! Let's see if we can embed this graph representation"
   ]
  },
  {
   "cell_type": "code",
   "execution_count": 254,
   "metadata": {
    "scrolled": false
   },
   "outputs": [
    {
     "data": {
      "text/plain": [
       "array([[-0.00299004, -0.00321894, -0.00015839,  0.00314686, -0.00236089,\n",
       "         0.00104585, -0.00234593,  0.00051356,  0.00208052, -0.00326612,\n",
       "         0.00223004,  0.00103003, -0.00207647,  0.00124784,  0.00172796,\n",
       "        -0.00354546, -0.0024221 ,  0.00247186, -0.00044375,  0.0010865 ,\n",
       "         0.00074129, -0.00250586,  0.00321635,  0.00150343, -0.00362363,\n",
       "         0.00106635,  0.00014555, -0.00152251, -0.00077438,  0.00048346,\n",
       "        -0.00074688,  0.00203126,  0.00088274, -0.00134888,  0.00390561,\n",
       "        -0.00210841,  0.00315848, -0.00356465,  0.00040528, -0.00375233,\n",
       "        -0.00060841, -0.00267055, -0.00326018, -0.00209995, -0.00098327,\n",
       "         0.00309394,  0.00260186, -0.00308601, -0.00299805, -0.00199068,\n",
       "         0.00109133, -0.00350984, -0.00280095,  0.00030697,  0.00236574,\n",
       "         0.00292634, -0.00354072, -0.00343076, -0.00270031,  0.00324108,\n",
       "         0.0006622 ,  0.00349947, -0.00016165,  0.00274851,  0.00349275,\n",
       "        -0.00031037,  0.00213059,  0.00034318, -0.00025491,  0.00255357,\n",
       "         0.0032818 , -0.00038979,  0.0001634 ,  0.00266098,  0.00138859,\n",
       "        -0.0011408 ,  0.00332954, -0.00193252, -0.00141371,  0.00229453,\n",
       "         0.00282427, -0.00243245, -0.00222952,  0.00180752, -0.00039424,\n",
       "        -0.00322532,  0.00157765, -0.00181424,  0.00154251,  0.00054568,\n",
       "        -0.00087693,  0.0023354 ,  0.00096467, -0.0003396 , -0.00214724,\n",
       "         0.00197326,  0.00351507,  0.00307837,  0.00187019,  0.00036545,\n",
       "        -0.0012835 ,  0.00294691, -0.0031464 , -0.00128727,  0.00114409,\n",
       "        -0.00130206, -0.00231885,  0.00037001,  0.00361207,  0.00215355,\n",
       "         0.00093926, -0.00241418,  0.00352775, -0.00192462, -0.00252669,\n",
       "        -0.00389182, -0.00170551, -0.00054889, -0.00216942,  0.00095512,\n",
       "        -0.00373615,  0.0006858 ,  0.00061374, -0.00345122,  0.00200556,\n",
       "        -0.00172424,  0.00135395, -0.00234413]], dtype=float32)"
      ]
     },
     "execution_count": 254,
     "metadata": {},
     "output_type": "execute_result"
    }
   ],
   "source": [
    "from karateclub import Graph2Vec\n",
    "g2v  = Graph2Vec()\n",
    "g2v.fit([nx_graph])\n",
    "g2v.get_embedding()"
   ]
  },
  {
   "cell_type": "markdown",
   "metadata": {},
   "source": [
    "## Augmenting dataset with morgan fingerprints"
   ]
  },
  {
   "cell_type": "code",
   "execution_count": 389,
   "metadata": {},
   "outputs": [
    {
     "data": {
      "text/plain": [
       "array([[0, 0, 1, ..., 1, 0, 1],\n",
       "       [1, 0, 0, ..., 1, 0, 0],\n",
       "       [1, 1, 0, ..., 1, 0, 0],\n",
       "       ...,\n",
       "       [1, 0, 1, ..., 0, 0, 1],\n",
       "       [1, 0, 1, ..., 1, 0, 0],\n",
       "       [0, 0, 0, ..., 1, 0, 0]])"
      ]
     },
     "execution_count": 389,
     "metadata": {},
     "output_type": "execute_result"
    }
   ],
   "source": [
    "fps = []\n",
    "for ix,row in df.iterrows():\n",
    "    m = MolFromSmiles(row.smiles)\n",
    "    fp = AllChem.GetMorganFingerprintAsBitVect(m, useChirality=True, radius=2, nBits=128)\n",
    "    fps.append(fp)\n",
    "fps = np.array(fps)\n",
    "fps"
   ]
  },
  {
   "cell_type": "markdown",
   "metadata": {},
   "source": [
    "## Augmenting dataset with embedding"
   ]
  },
  {
   "cell_type": "code",
   "execution_count": 417,
   "metadata": {},
   "outputs": [],
   "source": [
    "embedding_dimensions = 128\n",
    "g2v = Graph2Vec(dimensions=embedding_dimensions, seed=42)\n",
    "nx_graphs = []\n",
    "\n",
    "for ix,row in df.iterrows():\n",
    "    m = MolFromSmiles(row.smiles)\n",
    "    AllChem.Compute2DCoords(m)\n",
    "    admatrix = rdmolops.GetAdjacencyMatrix( m )\n",
    "    nx_graph = nx.from_numpy_matrix(admatrix)\n",
    "    nx_graphs.append(nx_graph)\n",
    "    \n",
    "g2v.fit(nx_graphs)\n",
    "embedding = g2v.get_embedding()\n",
    "embedding =  np.array(embedding)"
   ]
  },
  {
   "cell_type": "code",
   "execution_count": 425,
   "metadata": {},
   "outputs": [
    {
     "data": {
      "text/html": [
       "<div>\n",
       "<style scoped>\n",
       "    .dataframe tbody tr th:only-of-type {\n",
       "        vertical-align: middle;\n",
       "    }\n",
       "\n",
       "    .dataframe tbody tr th {\n",
       "        vertical-align: top;\n",
       "    }\n",
       "\n",
       "    .dataframe thead th {\n",
       "        text-align: right;\n",
       "    }\n",
       "</style>\n",
       "<table border=\"1\" class=\"dataframe\">\n",
       "  <thead>\n",
       "    <tr style=\"text-align: right;\">\n",
       "      <th></th>\n",
       "      <th>exp</th>\n",
       "      <th>emb_0</th>\n",
       "      <th>emb_1</th>\n",
       "      <th>emb_2</th>\n",
       "      <th>emb_3</th>\n",
       "      <th>emb_4</th>\n",
       "      <th>emb_5</th>\n",
       "      <th>emb_6</th>\n",
       "      <th>emb_7</th>\n",
       "      <th>emb_8</th>\n",
       "      <th>...</th>\n",
       "      <th>emb_118</th>\n",
       "      <th>emb_119</th>\n",
       "      <th>emb_120</th>\n",
       "      <th>emb_121</th>\n",
       "      <th>emb_122</th>\n",
       "      <th>emb_123</th>\n",
       "      <th>emb_124</th>\n",
       "      <th>emb_125</th>\n",
       "      <th>emb_126</th>\n",
       "      <th>emb_127</th>\n",
       "    </tr>\n",
       "  </thead>\n",
       "  <tbody>\n",
       "    <tr>\n",
       "      <th>0</th>\n",
       "      <td>3.54</td>\n",
       "      <td>0.034134</td>\n",
       "      <td>0.027644</td>\n",
       "      <td>-0.012245</td>\n",
       "      <td>0.012882</td>\n",
       "      <td>-0.031407</td>\n",
       "      <td>-0.039891</td>\n",
       "      <td>0.028246</td>\n",
       "      <td>-0.025022</td>\n",
       "      <td>-0.008415</td>\n",
       "      <td>...</td>\n",
       "      <td>-0.043733</td>\n",
       "      <td>-0.016836</td>\n",
       "      <td>0.072619</td>\n",
       "      <td>0.078680</td>\n",
       "      <td>-0.010295</td>\n",
       "      <td>0.074896</td>\n",
       "      <td>0.087125</td>\n",
       "      <td>0.066116</td>\n",
       "      <td>0.013294</td>\n",
       "      <td>-0.024197</td>\n",
       "    </tr>\n",
       "    <tr>\n",
       "      <th>1</th>\n",
       "      <td>-1.18</td>\n",
       "      <td>0.056104</td>\n",
       "      <td>0.050616</td>\n",
       "      <td>-0.022269</td>\n",
       "      <td>0.015746</td>\n",
       "      <td>-0.043418</td>\n",
       "      <td>-0.058462</td>\n",
       "      <td>0.048338</td>\n",
       "      <td>-0.042056</td>\n",
       "      <td>-0.013055</td>\n",
       "      <td>...</td>\n",
       "      <td>-0.064607</td>\n",
       "      <td>-0.025778</td>\n",
       "      <td>0.117635</td>\n",
       "      <td>0.118407</td>\n",
       "      <td>-0.017764</td>\n",
       "      <td>0.122966</td>\n",
       "      <td>0.132050</td>\n",
       "      <td>0.102765</td>\n",
       "      <td>0.015019</td>\n",
       "      <td>-0.036180</td>\n",
       "    </tr>\n",
       "    <tr>\n",
       "      <th>2</th>\n",
       "      <td>3.69</td>\n",
       "      <td>0.050082</td>\n",
       "      <td>0.036255</td>\n",
       "      <td>-0.014377</td>\n",
       "      <td>0.015405</td>\n",
       "      <td>-0.037639</td>\n",
       "      <td>-0.047665</td>\n",
       "      <td>0.040264</td>\n",
       "      <td>-0.028683</td>\n",
       "      <td>-0.008960</td>\n",
       "      <td>...</td>\n",
       "      <td>-0.053128</td>\n",
       "      <td>-0.023163</td>\n",
       "      <td>0.095142</td>\n",
       "      <td>0.094686</td>\n",
       "      <td>-0.014293</td>\n",
       "      <td>0.095660</td>\n",
       "      <td>0.101862</td>\n",
       "      <td>0.084963</td>\n",
       "      <td>0.014837</td>\n",
       "      <td>-0.023015</td>\n",
       "    </tr>\n",
       "    <tr>\n",
       "      <th>3</th>\n",
       "      <td>3.37</td>\n",
       "      <td>0.041557</td>\n",
       "      <td>0.034543</td>\n",
       "      <td>-0.013568</td>\n",
       "      <td>0.007241</td>\n",
       "      <td>-0.034342</td>\n",
       "      <td>-0.042212</td>\n",
       "      <td>0.033150</td>\n",
       "      <td>-0.028185</td>\n",
       "      <td>-0.007498</td>\n",
       "      <td>...</td>\n",
       "      <td>-0.044807</td>\n",
       "      <td>-0.020480</td>\n",
       "      <td>0.083228</td>\n",
       "      <td>0.086032</td>\n",
       "      <td>-0.015423</td>\n",
       "      <td>0.085600</td>\n",
       "      <td>0.091580</td>\n",
       "      <td>0.068534</td>\n",
       "      <td>0.014963</td>\n",
       "      <td>-0.020918</td>\n",
       "    </tr>\n",
       "    <tr>\n",
       "      <th>4</th>\n",
       "      <td>3.10</td>\n",
       "      <td>0.047618</td>\n",
       "      <td>0.034187</td>\n",
       "      <td>-0.012189</td>\n",
       "      <td>0.015146</td>\n",
       "      <td>-0.034085</td>\n",
       "      <td>-0.051528</td>\n",
       "      <td>0.034584</td>\n",
       "      <td>-0.031404</td>\n",
       "      <td>-0.011736</td>\n",
       "      <td>...</td>\n",
       "      <td>-0.046298</td>\n",
       "      <td>-0.025262</td>\n",
       "      <td>0.088703</td>\n",
       "      <td>0.094624</td>\n",
       "      <td>-0.015182</td>\n",
       "      <td>0.094378</td>\n",
       "      <td>0.103565</td>\n",
       "      <td>0.083474</td>\n",
       "      <td>0.014228</td>\n",
       "      <td>-0.026286</td>\n",
       "    </tr>\n",
       "    <tr>\n",
       "      <th>...</th>\n",
       "      <td>...</td>\n",
       "      <td>...</td>\n",
       "      <td>...</td>\n",
       "      <td>...</td>\n",
       "      <td>...</td>\n",
       "      <td>...</td>\n",
       "      <td>...</td>\n",
       "      <td>...</td>\n",
       "      <td>...</td>\n",
       "      <td>...</td>\n",
       "      <td>...</td>\n",
       "      <td>...</td>\n",
       "      <td>...</td>\n",
       "      <td>...</td>\n",
       "      <td>...</td>\n",
       "      <td>...</td>\n",
       "      <td>...</td>\n",
       "      <td>...</td>\n",
       "      <td>...</td>\n",
       "      <td>...</td>\n",
       "      <td>...</td>\n",
       "    </tr>\n",
       "    <tr>\n",
       "      <th>4195</th>\n",
       "      <td>3.85</td>\n",
       "      <td>0.038466</td>\n",
       "      <td>0.029435</td>\n",
       "      <td>-0.013780</td>\n",
       "      <td>0.013785</td>\n",
       "      <td>-0.030992</td>\n",
       "      <td>-0.042298</td>\n",
       "      <td>0.034128</td>\n",
       "      <td>-0.026105</td>\n",
       "      <td>-0.010356</td>\n",
       "      <td>...</td>\n",
       "      <td>-0.040926</td>\n",
       "      <td>-0.014220</td>\n",
       "      <td>0.075282</td>\n",
       "      <td>0.076311</td>\n",
       "      <td>-0.010761</td>\n",
       "      <td>0.076378</td>\n",
       "      <td>0.087903</td>\n",
       "      <td>0.067650</td>\n",
       "      <td>0.014005</td>\n",
       "      <td>-0.024838</td>\n",
       "    </tr>\n",
       "    <tr>\n",
       "      <th>4196</th>\n",
       "      <td>3.21</td>\n",
       "      <td>0.036461</td>\n",
       "      <td>0.030527</td>\n",
       "      <td>-0.014875</td>\n",
       "      <td>0.010669</td>\n",
       "      <td>-0.028054</td>\n",
       "      <td>-0.037773</td>\n",
       "      <td>0.033563</td>\n",
       "      <td>-0.025463</td>\n",
       "      <td>-0.014257</td>\n",
       "      <td>...</td>\n",
       "      <td>-0.041189</td>\n",
       "      <td>-0.020440</td>\n",
       "      <td>0.080953</td>\n",
       "      <td>0.079019</td>\n",
       "      <td>-0.010141</td>\n",
       "      <td>0.078305</td>\n",
       "      <td>0.089475</td>\n",
       "      <td>0.069245</td>\n",
       "      <td>0.008773</td>\n",
       "      <td>-0.021981</td>\n",
       "    </tr>\n",
       "    <tr>\n",
       "      <th>4197</th>\n",
       "      <td>2.10</td>\n",
       "      <td>0.033310</td>\n",
       "      <td>0.030929</td>\n",
       "      <td>-0.015272</td>\n",
       "      <td>0.008512</td>\n",
       "      <td>-0.026838</td>\n",
       "      <td>-0.038701</td>\n",
       "      <td>0.028599</td>\n",
       "      <td>-0.028300</td>\n",
       "      <td>-0.011944</td>\n",
       "      <td>...</td>\n",
       "      <td>-0.036532</td>\n",
       "      <td>-0.013954</td>\n",
       "      <td>0.072347</td>\n",
       "      <td>0.075720</td>\n",
       "      <td>-0.008939</td>\n",
       "      <td>0.078488</td>\n",
       "      <td>0.079412</td>\n",
       "      <td>0.063452</td>\n",
       "      <td>0.008032</td>\n",
       "      <td>-0.019228</td>\n",
       "    </tr>\n",
       "    <tr>\n",
       "      <th>4198</th>\n",
       "      <td>2.65</td>\n",
       "      <td>0.043366</td>\n",
       "      <td>0.030183</td>\n",
       "      <td>-0.013449</td>\n",
       "      <td>0.008459</td>\n",
       "      <td>-0.031204</td>\n",
       "      <td>-0.041005</td>\n",
       "      <td>0.032142</td>\n",
       "      <td>-0.030144</td>\n",
       "      <td>-0.011659</td>\n",
       "      <td>...</td>\n",
       "      <td>-0.047273</td>\n",
       "      <td>-0.016489</td>\n",
       "      <td>0.082811</td>\n",
       "      <td>0.078918</td>\n",
       "      <td>-0.011217</td>\n",
       "      <td>0.084091</td>\n",
       "      <td>0.092726</td>\n",
       "      <td>0.072549</td>\n",
       "      <td>0.013726</td>\n",
       "      <td>-0.026495</td>\n",
       "    </tr>\n",
       "    <tr>\n",
       "      <th>4199</th>\n",
       "      <td>2.70</td>\n",
       "      <td>0.040824</td>\n",
       "      <td>0.032150</td>\n",
       "      <td>-0.010460</td>\n",
       "      <td>0.007476</td>\n",
       "      <td>-0.030184</td>\n",
       "      <td>-0.045106</td>\n",
       "      <td>0.027951</td>\n",
       "      <td>-0.028306</td>\n",
       "      <td>-0.013604</td>\n",
       "      <td>...</td>\n",
       "      <td>-0.044922</td>\n",
       "      <td>-0.020085</td>\n",
       "      <td>0.080644</td>\n",
       "      <td>0.077438</td>\n",
       "      <td>-0.009116</td>\n",
       "      <td>0.080920</td>\n",
       "      <td>0.086203</td>\n",
       "      <td>0.072102</td>\n",
       "      <td>0.010843</td>\n",
       "      <td>-0.019673</td>\n",
       "    </tr>\n",
       "  </tbody>\n",
       "</table>\n",
       "<p>4200 rows × 129 columns</p>\n",
       "</div>"
      ],
      "text/plain": [
       "       exp     emb_0     emb_1     emb_2     emb_3     emb_4     emb_5  \\\n",
       "0     3.54  0.034134  0.027644 -0.012245  0.012882 -0.031407 -0.039891   \n",
       "1    -1.18  0.056104  0.050616 -0.022269  0.015746 -0.043418 -0.058462   \n",
       "2     3.69  0.050082  0.036255 -0.014377  0.015405 -0.037639 -0.047665   \n",
       "3     3.37  0.041557  0.034543 -0.013568  0.007241 -0.034342 -0.042212   \n",
       "4     3.10  0.047618  0.034187 -0.012189  0.015146 -0.034085 -0.051528   \n",
       "...    ...       ...       ...       ...       ...       ...       ...   \n",
       "4195  3.85  0.038466  0.029435 -0.013780  0.013785 -0.030992 -0.042298   \n",
       "4196  3.21  0.036461  0.030527 -0.014875  0.010669 -0.028054 -0.037773   \n",
       "4197  2.10  0.033310  0.030929 -0.015272  0.008512 -0.026838 -0.038701   \n",
       "4198  2.65  0.043366  0.030183 -0.013449  0.008459 -0.031204 -0.041005   \n",
       "4199  2.70  0.040824  0.032150 -0.010460  0.007476 -0.030184 -0.045106   \n",
       "\n",
       "         emb_6     emb_7     emb_8  ...   emb_118   emb_119   emb_120  \\\n",
       "0     0.028246 -0.025022 -0.008415  ... -0.043733 -0.016836  0.072619   \n",
       "1     0.048338 -0.042056 -0.013055  ... -0.064607 -0.025778  0.117635   \n",
       "2     0.040264 -0.028683 -0.008960  ... -0.053128 -0.023163  0.095142   \n",
       "3     0.033150 -0.028185 -0.007498  ... -0.044807 -0.020480  0.083228   \n",
       "4     0.034584 -0.031404 -0.011736  ... -0.046298 -0.025262  0.088703   \n",
       "...        ...       ...       ...  ...       ...       ...       ...   \n",
       "4195  0.034128 -0.026105 -0.010356  ... -0.040926 -0.014220  0.075282   \n",
       "4196  0.033563 -0.025463 -0.014257  ... -0.041189 -0.020440  0.080953   \n",
       "4197  0.028599 -0.028300 -0.011944  ... -0.036532 -0.013954  0.072347   \n",
       "4198  0.032142 -0.030144 -0.011659  ... -0.047273 -0.016489  0.082811   \n",
       "4199  0.027951 -0.028306 -0.013604  ... -0.044922 -0.020085  0.080644   \n",
       "\n",
       "       emb_121   emb_122   emb_123   emb_124   emb_125   emb_126   emb_127  \n",
       "0     0.078680 -0.010295  0.074896  0.087125  0.066116  0.013294 -0.024197  \n",
       "1     0.118407 -0.017764  0.122966  0.132050  0.102765  0.015019 -0.036180  \n",
       "2     0.094686 -0.014293  0.095660  0.101862  0.084963  0.014837 -0.023015  \n",
       "3     0.086032 -0.015423  0.085600  0.091580  0.068534  0.014963 -0.020918  \n",
       "4     0.094624 -0.015182  0.094378  0.103565  0.083474  0.014228 -0.026286  \n",
       "...        ...       ...       ...       ...       ...       ...       ...  \n",
       "4195  0.076311 -0.010761  0.076378  0.087903  0.067650  0.014005 -0.024838  \n",
       "4196  0.079019 -0.010141  0.078305  0.089475  0.069245  0.008773 -0.021981  \n",
       "4197  0.075720 -0.008939  0.078488  0.079412  0.063452  0.008032 -0.019228  \n",
       "4198  0.078918 -0.011217  0.084091  0.092726  0.072549  0.013726 -0.026495  \n",
       "4199  0.077438 -0.009116  0.080920  0.086203  0.072102  0.010843 -0.019673  \n",
       "\n",
       "[4200 rows x 129 columns]"
      ]
     },
     "execution_count": 425,
     "metadata": {},
     "output_type": "execute_result"
    }
   ],
   "source": [
    "d_names = ['emb_' + str(i) for i in range(embedding_dimensions)]\n",
    "df_emb = pd.DataFrame(embedding, columns=d_names)\n",
    "df_exp = pd.DataFrame(df['exp'])\n",
    "df_combined = pd.concat([df_exp, df_emb], axis=1)\n",
    "X = df_combined.iloc[:,1:].to_numpy()\n",
    "y = df_combined.iloc[:, 0].to_numpy()\n",
    "df_combined"
   ]
  },
  {
   "cell_type": "markdown",
   "metadata": {},
   "source": [
    "# Training machine learning model for Lipophilicity prediction"
   ]
  },
  {
   "cell_type": "code",
   "execution_count": 430,
   "metadata": {},
   "outputs": [],
   "source": [
    "from sklearn.model_selection import train_test_split\n",
    "from sklearn.ensemble import RandomForestRegressor\n",
    "from sklearn.linear_model import LinearRegression\n",
    "from sklearn.metrics import mean_squared_error, make_scorer\n",
    "import math\n",
    "X_train, X_test, y_train, y_test = train_test_split(X, y, test_size=0.2, random_state=42)"
   ]
  },
  {
   "cell_type": "code",
   "execution_count": 434,
   "metadata": {
    "scrolled": false
   },
   "outputs": [
    {
     "data": {
      "text/plain": [
       "1.231839025089365"
      ]
     },
     "execution_count": 434,
     "metadata": {},
     "output_type": "execute_result"
    }
   ],
   "source": [
    "lr = LinearRegression(normalize=False)\n",
    "lr.fit(X_train, y_train)\n",
    "y_pred = lr.predict(X_test)\n",
    "mse = mean_squared_error(y_test, y_pred)\n",
    "rmse = math.sqrt(mse)\n",
    "rmse"
   ]
  },
  {
   "cell_type": "markdown",
   "metadata": {},
   "source": [
    "## Only using Morgan fingerprints"
   ]
  },
  {
   "cell_type": "code",
   "execution_count": 435,
   "metadata": {},
   "outputs": [],
   "source": [
    "fp_d_names = ['fp_' + str(i) for i in range(embedding_dimensions)]\n",
    "d_names = ['emb_' + str(i) for i in range(embedding_dimensions)]\n",
    "df_fps = pd.DataFrame(fps, columns=fp_d_names)\n",
    "df_emb = pd.DataFrame(g2v.get_embedding(), columns=d_names)\n",
    "df_exp = pd.DataFrame(df['exp'])\n",
    "df_combined = pd.concat([df_exp, df_fps], axis=1)\n",
    "X = df_combined.iloc[:,1:].to_numpy()\n",
    "y = df_combined.iloc[:, 0].to_numpy()"
   ]
  },
  {
   "cell_type": "code",
   "execution_count": 436,
   "metadata": {},
   "outputs": [
    {
     "data": {
      "text/plain": [
       "1.100868398786017"
      ]
     },
     "execution_count": 436,
     "metadata": {},
     "output_type": "execute_result"
    }
   ],
   "source": [
    "X_train, X_test, y_train, y_test = train_test_split(X,y)\n",
    "lr = LinearRegression()\n",
    "lr.fit(X_train, y_train)\n",
    "y_pred = lr.predict(X_test)\n",
    "mse = mean_squared_error(y_test, y_pred)\n",
    "rmse = math.sqrt(mse)\n",
    "rmse"
   ]
  },
  {
   "cell_type": "code",
   "execution_count": null,
   "metadata": {},
   "outputs": [],
   "source": []
  }
 ],
 "metadata": {
  "kernelspec": {
   "display_name": "Python 3",
   "language": "python",
   "name": "python3"
  },
  "language_info": {
   "codemirror_mode": {
    "name": "ipython",
    "version": 3
   },
   "file_extension": ".py",
   "mimetype": "text/x-python",
   "name": "python",
   "nbconvert_exporter": "python",
   "pygments_lexer": "ipython3",
   "version": "3.6.10"
  }
 },
 "nbformat": 4,
 "nbformat_minor": 2
}
